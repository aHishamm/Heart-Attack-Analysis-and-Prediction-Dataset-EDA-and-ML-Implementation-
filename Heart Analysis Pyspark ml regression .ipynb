{
 "cells": [
  {
   "cell_type": "code",
   "execution_count": 2,
   "metadata": {},
   "outputs": [],
   "source": [
    "from pyspark.sql import SparkSession\n",
    "spark = SparkSession.builder.appName('HA').getOrCreate()"
   ]
  },
  {
   "cell_type": "code",
   "execution_count": 4,
   "metadata": {},
   "outputs": [
    {
     "name": "stdout",
     "output_type": "stream",
     "text": [
      "+---+---+---+------+----+---+-------+--------+----+-------+---+---+-----+------+\n",
      "|age|sex| cp|trtbps|chol|fbs|restecg|thalachh|exng|oldpeak|slp|caa|thall|output|\n",
      "+---+---+---+------+----+---+-------+--------+----+-------+---+---+-----+------+\n",
      "| 63|  1|  3|   145| 233|  1|      0|     150|   0|    2.3|  0|  0|    1|     1|\n",
      "| 37|  1|  2|   130| 250|  0|      1|     187|   0|    3.5|  0|  0|    2|     1|\n",
      "| 41|  0|  1|   130| 204|  0|      0|     172|   0|    1.4|  2|  0|    2|     1|\n",
      "| 56|  1|  1|   120| 236|  0|      1|     178|   0|    0.8|  2|  0|    2|     1|\n",
      "| 57|  0|  0|   120| 354|  0|      1|     163|   1|    0.6|  2|  0|    2|     1|\n",
      "| 57|  1|  0|   140| 192|  0|      1|     148|   0|    0.4|  1|  0|    1|     1|\n",
      "| 56|  0|  1|   140| 294|  0|      0|     153|   0|    1.3|  1|  0|    2|     1|\n",
      "| 44|  1|  1|   120| 263|  0|      1|     173|   0|    0.0|  2|  0|    3|     1|\n",
      "| 52|  1|  2|   172| 199|  1|      1|     162|   0|    0.5|  2|  0|    3|     1|\n",
      "| 57|  1|  2|   150| 168|  0|      1|     174|   0|    1.6|  2|  0|    2|     1|\n",
      "| 54|  1|  0|   140| 239|  0|      1|     160|   0|    1.2|  2|  0|    2|     1|\n",
      "| 48|  0|  2|   130| 275|  0|      1|     139|   0|    0.2|  2|  0|    2|     1|\n",
      "| 49|  1|  1|   130| 266|  0|      1|     171|   0|    0.6|  2|  0|    2|     1|\n",
      "| 64|  1|  3|   110| 211|  0|      0|     144|   1|    1.8|  1|  0|    2|     1|\n",
      "| 58|  0|  3|   150| 283|  1|      0|     162|   0|    1.0|  2|  0|    2|     1|\n",
      "| 50|  0|  2|   120| 219|  0|      1|     158|   0|    1.6|  1|  0|    2|     1|\n",
      "| 58|  0|  2|   120| 340|  0|      1|     172|   0|    0.0|  2|  0|    2|     1|\n",
      "| 66|  0|  3|   150| 226|  0|      1|     114|   0|    2.6|  0|  0|    2|     1|\n",
      "| 43|  1|  0|   150| 247|  0|      1|     171|   0|    1.5|  2|  0|    2|     1|\n",
      "| 69|  0|  3|   140| 239|  0|      1|     151|   0|    1.8|  2|  2|    2|     1|\n",
      "+---+---+---+------+----+---+-------+--------+----+-------+---+---+-----+------+\n",
      "only showing top 20 rows\n",
      "\n"
     ]
    }
   ],
   "source": [
    "#reading the heart dataset \n",
    "df = spark.read.csv('heart.csv',header=True,inferSchema=True)\n",
    "df.show()"
   ]
  },
  {
   "cell_type": "code",
   "execution_count": 5,
   "metadata": {},
   "outputs": [],
   "source": [
    "from pyspark.ml.feature import VectorAssembler\n",
    "featureassembler = VectorAssembler(inputCols=['age','sex','trtbps','chol','fbs','restecg','thalachh','exng','oldpeak','slp','caa','thall'], outputCol='Independent Features')"
   ]
  },
  {
   "cell_type": "code",
   "execution_count": 6,
   "metadata": {},
   "outputs": [],
   "source": [
    "output = featureassembler.transform(df)"
   ]
  },
  {
   "cell_type": "code",
   "execution_count": 7,
   "metadata": {},
   "outputs": [
    {
     "name": "stdout",
     "output_type": "stream",
     "text": [
      "+---+---+---+------+----+---+-------+--------+----+-------+---+---+-----+------+--------------------+\n",
      "|age|sex| cp|trtbps|chol|fbs|restecg|thalachh|exng|oldpeak|slp|caa|thall|output|Independent Features|\n",
      "+---+---+---+------+----+---+-------+--------+----+-------+---+---+-----+------+--------------------+\n",
      "| 63|  1|  3|   145| 233|  1|      0|     150|   0|    2.3|  0|  0|    1|     1|[63.0,1.0,145.0,2...|\n",
      "| 37|  1|  2|   130| 250|  0|      1|     187|   0|    3.5|  0|  0|    2|     1|[37.0,1.0,130.0,2...|\n",
      "| 41|  0|  1|   130| 204|  0|      0|     172|   0|    1.4|  2|  0|    2|     1|[41.0,0.0,130.0,2...|\n",
      "| 56|  1|  1|   120| 236|  0|      1|     178|   0|    0.8|  2|  0|    2|     1|[56.0,1.0,120.0,2...|\n",
      "| 57|  0|  0|   120| 354|  0|      1|     163|   1|    0.6|  2|  0|    2|     1|[57.0,0.0,120.0,3...|\n",
      "| 57|  1|  0|   140| 192|  0|      1|     148|   0|    0.4|  1|  0|    1|     1|[57.0,1.0,140.0,1...|\n",
      "| 56|  0|  1|   140| 294|  0|      0|     153|   0|    1.3|  1|  0|    2|     1|[56.0,0.0,140.0,2...|\n",
      "| 44|  1|  1|   120| 263|  0|      1|     173|   0|    0.0|  2|  0|    3|     1|[44.0,1.0,120.0,2...|\n",
      "| 52|  1|  2|   172| 199|  1|      1|     162|   0|    0.5|  2|  0|    3|     1|[52.0,1.0,172.0,1...|\n",
      "| 57|  1|  2|   150| 168|  0|      1|     174|   0|    1.6|  2|  0|    2|     1|[57.0,1.0,150.0,1...|\n",
      "| 54|  1|  0|   140| 239|  0|      1|     160|   0|    1.2|  2|  0|    2|     1|[54.0,1.0,140.0,2...|\n",
      "| 48|  0|  2|   130| 275|  0|      1|     139|   0|    0.2|  2|  0|    2|     1|[48.0,0.0,130.0,2...|\n",
      "| 49|  1|  1|   130| 266|  0|      1|     171|   0|    0.6|  2|  0|    2|     1|[49.0,1.0,130.0,2...|\n",
      "| 64|  1|  3|   110| 211|  0|      0|     144|   1|    1.8|  1|  0|    2|     1|[64.0,1.0,110.0,2...|\n",
      "| 58|  0|  3|   150| 283|  1|      0|     162|   0|    1.0|  2|  0|    2|     1|[58.0,0.0,150.0,2...|\n",
      "| 50|  0|  2|   120| 219|  0|      1|     158|   0|    1.6|  1|  0|    2|     1|[50.0,0.0,120.0,2...|\n",
      "| 58|  0|  2|   120| 340|  0|      1|     172|   0|    0.0|  2|  0|    2|     1|[58.0,0.0,120.0,3...|\n",
      "| 66|  0|  3|   150| 226|  0|      1|     114|   0|    2.6|  0|  0|    2|     1|[66.0,0.0,150.0,2...|\n",
      "| 43|  1|  0|   150| 247|  0|      1|     171|   0|    1.5|  2|  0|    2|     1|[43.0,1.0,150.0,2...|\n",
      "| 69|  0|  3|   140| 239|  0|      1|     151|   0|    1.8|  2|  2|    2|     1|[69.0,0.0,140.0,2...|\n",
      "+---+---+---+------+----+---+-------+--------+----+-------+---+---+-----+------+--------------------+\n",
      "only showing top 20 rows\n",
      "\n"
     ]
    }
   ],
   "source": [
    "output.show()"
   ]
  },
  {
   "cell_type": "code",
   "execution_count": 8,
   "metadata": {},
   "outputs": [
    {
     "data": {
      "text/plain": [
       "['age',\n",
       " 'sex',\n",
       " 'cp',\n",
       " 'trtbps',\n",
       " 'chol',\n",
       " 'fbs',\n",
       " 'restecg',\n",
       " 'thalachh',\n",
       " 'exng',\n",
       " 'oldpeak',\n",
       " 'slp',\n",
       " 'caa',\n",
       " 'thall',\n",
       " 'output',\n",
       " 'Independent Features']"
      ]
     },
     "execution_count": 8,
     "metadata": {},
     "output_type": "execute_result"
    }
   ],
   "source": [
    "output.columns"
   ]
  },
  {
   "cell_type": "code",
   "execution_count": 11,
   "metadata": {},
   "outputs": [
    {
     "name": "stdout",
     "output_type": "stream",
     "text": [
      "+--------------------+------+\n",
      "|Independent Features|output|\n",
      "+--------------------+------+\n",
      "|[63.0,1.0,145.0,2...|     1|\n",
      "|[37.0,1.0,130.0,2...|     1|\n",
      "|[41.0,0.0,130.0,2...|     1|\n",
      "|[56.0,1.0,120.0,2...|     1|\n",
      "|[57.0,0.0,120.0,3...|     1|\n",
      "|[57.0,1.0,140.0,1...|     1|\n",
      "|[56.0,0.0,140.0,2...|     1|\n",
      "|[44.0,1.0,120.0,2...|     1|\n",
      "|[52.0,1.0,172.0,1...|     1|\n",
      "|[57.0,1.0,150.0,1...|     1|\n",
      "|[54.0,1.0,140.0,2...|     1|\n",
      "|[48.0,0.0,130.0,2...|     1|\n",
      "|[49.0,1.0,130.0,2...|     1|\n",
      "|[64.0,1.0,110.0,2...|     1|\n",
      "|[58.0,0.0,150.0,2...|     1|\n",
      "|[50.0,0.0,120.0,2...|     1|\n",
      "|[58.0,0.0,120.0,3...|     1|\n",
      "|[66.0,0.0,150.0,2...|     1|\n",
      "|[43.0,1.0,150.0,2...|     1|\n",
      "|[69.0,0.0,140.0,2...|     1|\n",
      "+--------------------+------+\n",
      "only showing top 20 rows\n",
      "\n"
     ]
    }
   ],
   "source": [
    "finalized_df = output.select(\"Independent Features\",\"output\")\n",
    "finalized_df.show()"
   ]
  },
  {
   "cell_type": "code",
   "execution_count": 14,
   "metadata": {},
   "outputs": [],
   "source": [
    "from pyspark.ml.regression import LinearRegression \n",
    "#train test split \n",
    "train_data,test_data = finalized_df.randomSplit([0.75,0.25])\n",
    "regressor = LinearRegression(featuresCol='Independent Features',labelCol='output')\n",
    "regressor = regressor.fit(train_data)"
   ]
  },
  {
   "cell_type": "code",
   "execution_count": 15,
   "metadata": {},
   "outputs": [
    {
     "data": {
      "text/plain": [
       "DenseVector([0.0025, -0.1679, -0.0033, -0.0005, 0.0978, 0.0662, 0.0037, -0.174, -0.07, 0.0753, -0.1167, -0.1782])"
      ]
     },
     "execution_count": 15,
     "metadata": {},
     "output_type": "execute_result"
    }
   ],
   "source": [
    "#coefficients \n",
    "regressor.coefficients"
   ]
  },
  {
   "cell_type": "code",
   "execution_count": 16,
   "metadata": {},
   "outputs": [
    {
     "data": {
      "text/plain": [
       "0.9998204245152984"
      ]
     },
     "execution_count": 16,
     "metadata": {},
     "output_type": "execute_result"
    }
   ],
   "source": [
    "#intercept \n",
    "regressor.intercept"
   ]
  },
  {
   "cell_type": "code",
   "execution_count": 17,
   "metadata": {},
   "outputs": [],
   "source": [
    "#prediction \n",
    "pred_results = regressor.evaluate(test_data)"
   ]
  },
  {
   "cell_type": "code",
   "execution_count": 18,
   "metadata": {},
   "outputs": [
    {
     "name": "stdout",
     "output_type": "stream",
     "text": [
      "+--------------------+------+-------------------+\n",
      "|Independent Features|output|         prediction|\n",
      "+--------------------+------+-------------------+\n",
      "|(12,[0,2,3,6,9,11...|     1| 1.0179297895548767|\n",
      "|(12,[0,2,3,6,9,11...|     1| 0.9473560755964334|\n",
      "|(12,[0,2,3,6,9,11...|     1| 1.0179807810433752|\n",
      "|[35.0,1.0,120.0,1...|     0|0.22684564662151296|\n",
      "|[35.0,1.0,122.0,1...|     1|  0.926250212763492|\n",
      "|[37.0,1.0,130.0,2...|     1| 0.5275200630525806|\n",
      "|[38.0,1.0,138.0,1...|     1| 0.4195909607658941|\n",
      "|[38.0,1.0,138.0,1...|     1| 0.4195909607658941|\n",
      "|[39.0,0.0,94.0,19...|     1| 1.2115747430887642|\n",
      "|[40.0,1.0,110.0,1...|     0|0.13502349457766039|\n",
      "|[41.0,0.0,112.0,2...|     1| 0.8554716340577331|\n",
      "|[41.0,0.0,130.0,2...|     1| 0.9052396132851642|\n",
      "|[41.0,1.0,112.0,2...|     1| 0.9630286155060348|\n",
      "|[41.0,1.0,130.0,2...|     1| 0.5999786286803137|\n",
      "|[41.0,1.0,135.0,2...|     1| 0.8398464674289179|\n",
      "|[43.0,1.0,130.0,3...|     1|  0.562299977558868|\n",
      "|[44.0,1.0,120.0,1...|     0| 0.5138247380514618|\n",
      "|[44.0,1.0,120.0,2...|     1| 0.9264232086860555|\n",
      "|[44.0,1.0,120.0,2...|     1| 0.9196003811428382|\n",
      "|[44.0,1.0,140.0,2...|     1| 0.8236965168596387|\n",
      "+--------------------+------+-------------------+\n",
      "only showing top 20 rows\n",
      "\n"
     ]
    }
   ],
   "source": [
    "pred_results.predictions.show()"
   ]
  },
  {
   "cell_type": "code",
   "execution_count": 19,
   "metadata": {},
   "outputs": [
    {
     "data": {
      "text/plain": [
       "(0.30169570544461466, 0.14570985755986793)"
      ]
     },
     "execution_count": 19,
     "metadata": {},
     "output_type": "execute_result"
    }
   ],
   "source": [
    "pred_results.meanAbsoluteError,pred_results.meanSquaredError"
   ]
  },
  {
   "cell_type": "code",
   "execution_count": 21,
   "metadata": {},
   "outputs": [
    {
     "data": {
      "text/plain": [
       "0.4167566616314642"
      ]
     },
     "execution_count": 21,
     "metadata": {},
     "output_type": "execute_result"
    }
   ],
   "source": [
    "pred_results.r2"
   ]
  },
  {
   "cell_type": "code",
   "execution_count": null,
   "metadata": {},
   "outputs": [],
   "source": []
  }
 ],
 "metadata": {
  "kernelspec": {
   "display_name": "Python 3",
   "language": "python",
   "name": "python3"
  },
  "language_info": {
   "codemirror_mode": {
    "name": "ipython",
    "version": 3
   },
   "file_extension": ".py",
   "mimetype": "text/x-python",
   "name": "python",
   "nbconvert_exporter": "python",
   "pygments_lexer": "ipython3",
   "version": "3.8.5"
  }
 },
 "nbformat": 4,
 "nbformat_minor": 4
}
